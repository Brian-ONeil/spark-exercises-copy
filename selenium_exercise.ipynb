{
 "cells": [
  {
   "cell_type": "code",
   "execution_count": 1,
   "id": "41460d49-b02f-440c-a83c-36f6cb47ffce",
   "metadata": {},
   "outputs": [],
   "source": [
    "from selenium import webdriver\n",
    "from selenium.webdriver.chrome.service import Service\n",
    "from selenium.webdriver.common.keys import Keys\n",
    "from selenium.webdriver.common.by import By\n",
    "from selenium.webdriver.common.action_chains import ActionChains\n",
    "from selenium.webdriver.support.ui import Select, WebDriverWait\n",
    "from selenium.webdriver.support import expected_conditions as EC\n",
    "\n",
    "from webdriver_manager.chrome import ChromeDriverManager\n",
    "\n",
    "import time\n",
    "import os\n",
    "import wrangle as wra"
   ]
  },
  {
   "cell_type": "code",
   "execution_count": 2,
   "id": "002ed58e-7bb3-4fd2-8e30-c893b7e13b18",
   "metadata": {},
   "outputs": [],
   "source": [
    "user = os.getenv(\"githubUSER\")\n",
    "pswd = os.getenv(\"githubPSWD\")\n",
    "                 \n",
    "base_url = \"https://github.com/\"\n",
    "                 "
   ]
  },
  {
   "cell_type": "markdown",
   "id": "e1c102e6-30de-45ef-9833-eb9fc5b37257",
   "metadata": {},
   "source": [
    "# Call ChromeDriverManager().install() to download and install ChromeDriver\n",
    "\n",
    "ChromeDriverManager().install()"
   ]
  },
  {
   "cell_type": "code",
   "execution_count": 3,
   "id": "2c6158a6-328b-48be-b7b4-43e0367a191e",
   "metadata": {},
   "outputs": [],
   "source": [
    "# Create a webdriver object \n",
    "\n",
    "driver = webdriver.Chrome(service = Service())"
   ]
  },
  {
   "cell_type": "code",
   "execution_count": 4,
   "id": "752ff944-831f-4bb9-b21f-c72a04a5b544",
   "metadata": {},
   "outputs": [],
   "source": [
    "# Let's open up a website!\n",
    "\n",
    "driver.get(base_url+\"login\")"
   ]
  },
  {
   "cell_type": "code",
   "execution_count": 8,
   "id": "5b9d2fcd-0d36-4155-b992-ffcd9f40898b",
   "metadata": {},
   "outputs": [],
   "source": [
    "# Enter username\n",
    "\n",
    "driver.find_element(By.NAME, \"login\").send_keys(user)"
   ]
  },
  {
   "cell_type": "code",
   "execution_count": 9,
   "id": "15f0f5a3-1d99-4812-8985-edeb27a28493",
   "metadata": {},
   "outputs": [],
   "source": [
    "# Enter password\n",
    "\n",
    "driver.find_element(By.NAME, \"password\").send_keys(pswd)"
   ]
  },
  {
   "cell_type": "code",
   "execution_count": 10,
   "id": "45b4ba93-a4c9-41f8-a7cd-19fff7eb935f",
   "metadata": {},
   "outputs": [],
   "source": [
    "# Locate and click the sign in button\n",
    "\n",
    "driver.find_element(By.NAME, \"commit\").click()"
   ]
  },
  {
   "cell_type": "code",
   "execution_count": 11,
   "id": "3bcc0af5-4280-4369-b34e-0903db840e23",
   "metadata": {},
   "outputs": [],
   "source": [
    "# navigate to database-exercises repo\n",
    "\n",
    "driver.get(base_url+user+\"/database_exercises\")"
   ]
  },
  {
   "cell_type": "code",
   "execution_count": 17,
   "id": "2f69fc02-4314-410d-9f83-a69b26e53cd2",
   "metadata": {},
   "outputs": [
    {
     "data": {
      "text/plain": [
       "'basic_statement_exercises.sql'"
      ]
     },
     "execution_count": 17,
     "metadata": {},
     "output_type": "execute_result"
    }
   ],
   "source": [
    "# Locate and click the sign in button\n",
    "\n",
    "driver.find_elements(By.XPATH, '''//a[@class=\"js-navigation-open Link--primary\"]''')[1].text"
   ]
  },
  {
   "cell_type": "code",
   "execution_count": 18,
   "id": "c85bc330-bbc3-435d-bbea-0d4f9f02af52",
   "metadata": {},
   "outputs": [],
   "source": [
    "# Locate and click the sign in button\n",
    "\n",
    "driver.find_elements(By.XPATH, '''//a[@class=\"js-navigation-open Link--primary\"]''')[1].click()"
   ]
  },
  {
   "cell_type": "code",
   "execution_count": 19,
   "id": "64088499-81ac-4b6e-a9d6-0758cf3adc82",
   "metadata": {},
   "outputs": [],
   "source": [
    "# download the file\n",
    "# CMD + F in developer tool\n",
    "\n",
    "driver.find_elements(By.XPATH, \"//button[@data-component='IconButton']\")[5].click()\n"
   ]
  },
  {
   "cell_type": "markdown",
   "id": "10ea6a4a-b18d-4924-a647-23c29168da17",
   "metadata": {},
   "source": [
    "<a href = \"https://scrapinghub.github.io/xpath-playground/\">XPath Playground</a>"
   ]
  },
  {
   "cell_type": "markdown",
   "id": "28817097-90b7-4c00-8f02-3ad28d3f29b3",
   "metadata": {},
   "source": [
    "# Make a function that will download all of the sql files listed in your database-exercises repo."
   ]
  },
  {
   "cell_type": "code",
   "execution_count": 11,
   "id": "7120f012-b222-435e-acf7-5cbf53785848",
   "metadata": {
    "tags": []
   },
   "outputs": [],
   "source": [
    "wra.download_files()"
   ]
  }
 ],
 "metadata": {
  "kernelspec": {
   "display_name": "Python 3 (ipykernel)",
   "language": "python",
   "name": "python3"
  },
  "language_info": {
   "codemirror_mode": {
    "name": "ipython",
    "version": 3
   },
   "file_extension": ".py",
   "mimetype": "text/x-python",
   "name": "python",
   "nbconvert_exporter": "python",
   "pygments_lexer": "ipython3",
   "version": "3.9.13"
  }
 },
 "nbformat": 4,
 "nbformat_minor": 5
}
