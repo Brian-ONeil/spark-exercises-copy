{
 "cells": [
  {
   "cell_type": "code",
   "execution_count": 1,
   "id": "364ce4a4-a887-4038-be15-2a3c2a5fba95",
   "metadata": {},
   "outputs": [
    {
     "name": "stderr",
     "output_type": "stream",
     "text": [
      "Setting default log level to \"WARN\".\n",
      "To adjust logging level use sc.setLogLevel(newLevel). For SparkR, use setLogLevel(newLevel).\n",
      "23/07/11 08:32:55 WARN NativeCodeLoader: Unable to load native-hadoop library for your platform... using builtin-java classes where applicable\n"
     ]
    },
    {
     "data": {
      "text/html": [
       "\n",
       "            <div>\n",
       "                <p><b>SparkSession - in-memory</b></p>\n",
       "                \n",
       "        <div>\n",
       "            <p><b>SparkContext</b></p>\n",
       "\n",
       "            <p><a href=\"http://brians-air.localdomain:4040\">Spark UI</a></p>\n",
       "\n",
       "            <dl>\n",
       "              <dt>Version</dt>\n",
       "                <dd><code>v3.4.1</code></dd>\n",
       "              <dt>Master</dt>\n",
       "                <dd><code>local[*]</code></dd>\n",
       "              <dt>AppName</dt>\n",
       "                <dd><code>pyspark-shell</code></dd>\n",
       "            </dl>\n",
       "        </div>\n",
       "        \n",
       "            </div>\n",
       "        "
      ],
      "text/plain": [
       "<pyspark.sql.session.SparkSession at 0x1058a6130>"
      ]
     },
     "execution_count": 1,
     "metadata": {},
     "output_type": "execute_result"
    }
   ],
   "source": [
    "#import spark for python! \n",
    "import pyspark\n",
    "\n",
    "#create the spark session\n",
    "spark = pyspark.sql.SparkSession.builder.getOrCreate()\n",
    "spark"
   ]
  },
  {
   "cell_type": "code",
   "execution_count": 2,
   "id": "0a9cf3e2-f419-47c7-8601-8ecde81448a1",
   "metadata": {
    "tags": []
   },
   "outputs": [],
   "source": [
    "# imports\n",
    "import pandas as pd\n",
    "import numpy as np\n",
    "import os\n",
    "import env\n",
    "from pydataset import data\n",
    "from pyspark.sql import SparkSession\n",
    "from pyspark.sql.functions import *\n",
    "from sqlalchemy import text, create_engine\n",
    "from pyspark.sql.types import StructType, StructField, StringType"
   ]
  },
  {
   "cell_type": "code",
   "execution_count": 3,
   "id": "c19662ed-303a-48e3-8d94-9cc9d106dc3c",
   "metadata": {},
   "outputs": [
    {
     "name": "stderr",
     "output_type": "stream",
     "text": [
      "                                                                                \r"
     ]
    }
   ],
   "source": [
    "case = spark.read.csv(\"case.csv\", sep=',', header=True, inferSchema=True)\n",
    "dept = spark.read.csv(\"dept.csv\", sep=',', header=True, inferSchema=True)\n",
    "source = spark.read.csv(\"source.csv\", sep=',', header=True, inferSchema=True)"
   ]
  },
  {
   "cell_type": "code",
   "execution_count": 4,
   "id": "71a71797-b9ef-40ff-ba3f-a323b8d7812b",
   "metadata": {},
   "outputs": [
    {
     "name": "stdout",
     "output_type": "stream",
     "text": [
      "-RECORD 0------------------------------------\n",
      " case_id              | 1014127332           \n",
      " case_opened_date     | 1/1/18 0:42          \n",
      " case_closed_date     | 1/1/18 12:29         \n",
      " SLA_due_date         | 9/26/20 0:42         \n",
      " case_late            | NO                   \n",
      " num_days_late        | -998.5087616000001   \n",
      " case_closed          | YES                  \n",
      " dept_division        | Field Operations     \n",
      " service_request_type | Stray Animal         \n",
      " SLA_days             | 999.0                \n",
      " case_status          | Closed               \n",
      " source_id            | svcCRMLS             \n",
      " request_address      | 2315  EL PASO ST,... \n",
      " council_district     | 5                    \n",
      "-RECORD 1------------------------------------\n",
      " case_id              | 1014127333           \n",
      " case_opened_date     | 1/1/18 0:46          \n",
      " case_closed_date     | 1/3/18 8:11          \n",
      " SLA_due_date         | 1/5/18 8:30          \n",
      " case_late            | NO                   \n",
      " num_days_late        | -2.0126041669999997  \n",
      " case_closed          | YES                  \n",
      " dept_division        | Storm Water          \n",
      " service_request_type | Removal Of Obstru... \n",
      " SLA_days             | 4.322222222          \n",
      " case_status          | Closed               \n",
      " source_id            | svcCRMSS             \n",
      " request_address      | 2215  GOLIAD RD, ... \n",
      " council_district     | 3                    \n",
      "only showing top 2 rows\n",
      "\n"
     ]
    }
   ],
   "source": [
    "case.show(2,vertical=True)"
   ]
  },
  {
   "cell_type": "code",
   "execution_count": 5,
   "id": "0d20bd28-a19a-40a8-bf92-d75a82030b88",
   "metadata": {},
   "outputs": [
    {
     "data": {
      "text/plain": [
       "['case_id',\n",
       " 'case_opened_date',\n",
       " 'case_closed_date',\n",
       " 'SLA_due_date',\n",
       " 'case_late',\n",
       " 'num_days_late',\n",
       " 'case_closed',\n",
       " 'dept_division',\n",
       " 'service_request_type',\n",
       " 'SLA_days',\n",
       " 'case_status',\n",
       " 'source_id',\n",
       " 'request_address',\n",
       " 'council_district']"
      ]
     },
     "execution_count": 5,
     "metadata": {},
     "output_type": "execute_result"
    }
   ],
   "source": [
    "case.columns"
   ]
  },
  {
   "cell_type": "code",
   "execution_count": 6,
   "id": "9d24db82-51ae-46e4-b78b-8def528e7f27",
   "metadata": {},
   "outputs": [
    {
     "name": "stdout",
     "output_type": "stream",
     "text": [
      "-RECORD 0---------------------------\n",
      " source_id       | 100137           \n",
      " source_username | Merlene Blodgett \n",
      "-RECORD 1---------------------------\n",
      " source_id       | 103582           \n",
      " source_username | Carmen Cura      \n",
      "only showing top 2 rows\n",
      "\n"
     ]
    }
   ],
   "source": [
    "source.show(2,vertical=True)"
   ]
  },
  {
   "cell_type": "code",
   "execution_count": 7,
   "id": "109c0fb3-8371-4e08-b954-2efb14d00772",
   "metadata": {},
   "outputs": [],
   "source": [
    "source.write.json(\"data/sources_json\", mode=\"overwrite\")"
   ]
  },
  {
   "cell_type": "code",
   "execution_count": 8,
   "id": "7124a7e4-a283-45b0-95a1-bb6bc65672dd",
   "metadata": {},
   "outputs": [],
   "source": [
    "source.write.csv(\"data/sources_csv\", header=True, mode=\"overwrite\")"
   ]
  },
  {
   "cell_type": "code",
   "execution_count": 9,
   "id": "2013c11a-900e-43bf-91e7-1fa18c782a4a",
   "metadata": {},
   "outputs": [
    {
     "data": {
      "text/plain": [
       "['sources_csv', 'sources_json']"
      ]
     },
     "execution_count": 9,
     "metadata": {},
     "output_type": "execute_result"
    }
   ],
   "source": [
    "os.listdir(\"data\")"
   ]
  },
  {
   "cell_type": "code",
   "execution_count": 10,
   "id": "50529fd2-3a45-42cc-b70c-da1411772906",
   "metadata": {},
   "outputs": [
    {
     "data": {
      "text/plain": [
       "['._SUCCESS.crc',\n",
       " 'part-00000-477c06d6-2ebd-43b6-abae-0f06051020b6-c000.csv',\n",
       " '.part-00000-477c06d6-2ebd-43b6-abae-0f06051020b6-c000.csv.crc',\n",
       " '_SUCCESS']"
      ]
     },
     "execution_count": 10,
     "metadata": {},
     "output_type": "execute_result"
    }
   ],
   "source": [
    "os.listdir(\"data/sources_csv\")"
   ]
  },
  {
   "cell_type": "code",
   "execution_count": 11,
   "id": "aa4f6fa4-05f7-4ebf-b0ca-4b0887bd33a2",
   "metadata": {},
   "outputs": [
    {
     "data": {
      "text/plain": [
       "['._SUCCESS.crc',\n",
       " 'part-00000-f69bff42-f4f6-4722-a006-b854fd88d23f-c000.json',\n",
       " '.part-00000-f69bff42-f4f6-4722-a006-b854fd88d23f-c000.json.crc',\n",
       " '_SUCCESS']"
      ]
     },
     "execution_count": 11,
     "metadata": {},
     "output_type": "execute_result"
    }
   ],
   "source": [
    "os.listdir(\"data/sources_json\")"
   ]
  },
  {
   "cell_type": "code",
   "execution_count": 12,
   "id": "a3f990dd-d101-48ec-90e9-da5f39b4379f",
   "metadata": {},
   "outputs": [
    {
     "data": {
      "text/plain": [
       "[('case_id', 'int'),\n",
       " ('case_opened_date', 'string'),\n",
       " ('case_closed_date', 'string'),\n",
       " ('SLA_due_date', 'string'),\n",
       " ('case_late', 'string'),\n",
       " ('num_days_late', 'double'),\n",
       " ('case_closed', 'string'),\n",
       " ('dept_division', 'string'),\n",
       " ('service_request_type', 'string'),\n",
       " ('SLA_days', 'double'),\n",
       " ('case_status', 'string'),\n",
       " ('source_id', 'string'),\n",
       " ('request_address', 'string'),\n",
       " ('council_district', 'int')]"
      ]
     },
     "execution_count": 12,
     "metadata": {},
     "output_type": "execute_result"
    }
   ],
   "source": [
    "case.dtypes"
   ]
  },
  {
   "cell_type": "code",
   "execution_count": 13,
   "id": "eb5c760e-9e8b-4035-9927-15dff9999b51",
   "metadata": {},
   "outputs": [
    {
     "name": "stdout",
     "output_type": "stream",
     "text": [
      "root\n",
      " |-- case_id: integer (nullable = true)\n",
      " |-- case_opened_date: string (nullable = true)\n",
      " |-- case_closed_date: string (nullable = true)\n",
      " |-- SLA_due_date: string (nullable = true)\n",
      " |-- case_late: string (nullable = true)\n",
      " |-- num_days_late: double (nullable = true)\n",
      " |-- case_closed: string (nullable = true)\n",
      " |-- dept_division: string (nullable = true)\n",
      " |-- service_request_type: string (nullable = true)\n",
      " |-- SLA_days: double (nullable = true)\n",
      " |-- case_status: string (nullable = true)\n",
      " |-- source_id: string (nullable = true)\n",
      " |-- request_address: string (nullable = true)\n",
      " |-- council_district: integer (nullable = true)\n",
      "\n"
     ]
    }
   ],
   "source": [
    "case.printSchema()"
   ]
  },
  {
   "cell_type": "code",
   "execution_count": 14,
   "id": "58fc93e7-fc47-46b6-8064-082756fd1960",
   "metadata": {},
   "outputs": [],
   "source": [
    "#rename col\n",
    "case = case.withColumnRenamed(\"SLA_due_date\", \"case_due_date\")"
   ]
  },
  {
   "cell_type": "code",
   "execution_count": 15,
   "id": "b8df1d52-0c77-44d0-85d2-f689ade52950",
   "metadata": {},
   "outputs": [],
   "source": [
    "#convert data types\n",
    "\n",
    "case = (\n",
    "    case.withColumn(\"case_late\", col(\"case_late\")==\"YES\")\n",
    "    .withColumn(\"case_closed\", col(\"case_closed\")==\"YES\")\n",
    ")\n",
    "\n",
    "case = case.withColumn(\"council_district\", format_string(\"%03d\", col(\"council_district\")))"
   ]
  },
  {
   "cell_type": "code",
   "execution_count": 16,
   "id": "7627ff30-eb1b-4753-aeca-5e134f93243c",
   "metadata": {},
   "outputs": [
    {
     "ename": "SyntaxError",
     "evalue": "unexpected EOF while parsing (922237865.py, line 6)",
     "output_type": "error",
     "traceback": [
      "\u001b[0;36m  Input \u001b[0;32mIn [16]\u001b[0;36m\u001b[0m\n\u001b[0;31m    .withColumn('case_due_date', to_timestamp(col('case_due_date'), fmt))\u001b[0m\n\u001b[0m                                                                         ^\u001b[0m\n\u001b[0;31mSyntaxError\u001b[0m\u001b[0;31m:\u001b[0m unexpected EOF while parsing\n"
     ]
    }
   ],
   "source": [
    "fmt = \"M/d/yy H:mm\" #saved to the underlying stored data\n",
    "\n",
    "case = (\n",
    "    case.withColumn('case_opened_date', to_timestamp(col('case_opened_date'), fmt))\n",
    "    .withColumn('case_closed_date', to_timestamp(col('case_closed_date'), fmt))\n",
    "    .withColumn('case_due_date', to_timestamp(col('case_due_date'), fmt))"
   ]
  },
  {
   "cell_type": "code",
   "execution_count": 17,
   "id": "87775465-3f07-403a-af71-078b00098e67",
   "metadata": {},
   "outputs": [],
   "source": [
    "# Cleanup text data\n",
    "case = case.withColumn('request_address', lower(trim(col('request_address'))))"
   ]
  },
  {
   "cell_type": "code",
   "execution_count": 18,
   "id": "c70b278a-fafb-45b8-a2e4-88a821859991",
   "metadata": {},
   "outputs": [
    {
     "name": "stderr",
     "output_type": "stream",
     "text": [
      "                                                                                \r"
     ]
    },
    {
     "data": {
      "text/plain": [
       "Row(case_closed_date='9/9/17 9:56')"
      ]
     },
     "execution_count": 18,
     "metadata": {},
     "output_type": "execute_result"
    }
   ],
   "source": [
    "case.select(\"case_closed_date\").sort(desc(\"case_closed_date\")).first()"
   ]
  },
  {
   "cell_type": "code",
   "execution_count": 19,
   "id": "4855839e-66e5-4f05-8976-807b29e7c2e8",
   "metadata": {},
   "outputs": [
    {
     "name": "stdout",
     "output_type": "stream",
     "text": [
      "+-------------------------------------------------------------+\n",
      "|datediff(to_timestamp(2018-08-08 10:38:00), case_opened_date)|\n",
      "+-------------------------------------------------------------+\n",
      "|                                                         null|\n",
      "|                                                         null|\n",
      "|                                                         null|\n",
      "+-------------------------------------------------------------+\n",
      "only showing top 3 rows\n",
      "\n"
     ]
    }
   ],
   "source": [
    "case.select(\n",
    "    datediff(to_timestamp(lit(\"2018-08-08 10:38:00\")), case.case_opened_date)\n",
    ").show(3)"
   ]
  },
  {
   "cell_type": "code",
   "execution_count": 20,
   "id": "edfff330-fd00-41ac-b777-07de34c780f9",
   "metadata": {},
   "outputs": [
    {
     "name": "stdout",
     "output_type": "stream",
     "text": [
      "+-------------------------------------------------------------+\n",
      "|datediff(to_timestamp(current_timestamp()), case_opened_date)|\n",
      "+-------------------------------------------------------------+\n",
      "|                                                         null|\n",
      "|                                                         null|\n",
      "|                                                         null|\n",
      "+-------------------------------------------------------------+\n",
      "only showing top 3 rows\n",
      "\n"
     ]
    }
   ],
   "source": [
    "case.select(\n",
    "    datediff(to_timestamp(current_timestamp()), case.case_opened_date)\n",
    ").show(3)"
   ]
  },
  {
   "cell_type": "code",
   "execution_count": 21,
   "id": "043e0235-b051-4ffc-8b49-223e7c642751",
   "metadata": {},
   "outputs": [],
   "source": [
    "# Extract zipcode\n",
    "case = case.withColumn('zipcode', regexp_extract(col('request_address'), r'\\d+$', 0))\n",
    "\n",
    "# Create a `case_lifetime` feature\n",
    "case = (\n",
    "    case.withColumn('case_age', datediff(to_timestamp(lit('2018-08-08 10:38:00')), 'case_opened_date'))\n",
    "    .withColumn('days_to_closed', datediff('case_closed_date', 'case_opened_date'))\n",
    "    .withColumn('case_lifetime', when(\n",
    "        col('case_closed'), col('days_to_closed')).otherwise(col('case_age')))\n",
    "    .withColumn('curr_case_age', datediff(current_timestamp(), 'case_opened_date'))\n",
    "    .drop('case_age', 'days_to_closed')\n",
    ")"
   ]
  },
  {
   "cell_type": "code",
   "execution_count": 22,
   "id": "601cf265-2fe3-4b13-bd69-70e9667a038b",
   "metadata": {},
   "outputs": [
    {
     "name": "stdout",
     "output_type": "stream",
     "text": [
      "-RECORD 0----------------------------------------------------\n",
      " case_id              | 1014127332                           \n",
      " case_opened_date     | 1/1/18 0:42                          \n",
      " case_closed_date     | 1/1/18 12:29                         \n",
      " case_due_date        | 9/26/20 0:42                         \n",
      " case_late            | false                                \n",
      " num_days_late        | -998.5087616000001                   \n",
      " case_closed          | true                                 \n",
      " dept_division        | Field Operations                     \n",
      " service_request_type | Stray Animal                         \n",
      " SLA_days             | 999.0                                \n",
      " case_status          | Closed                               \n",
      " source_id            | svcCRMLS                             \n",
      " request_address      | 2315  el paso st, san antonio, 78207 \n",
      " council_district     | 005                                  \n",
      " zipcode              | 78207                                \n",
      " case_lifetime        | null                                 \n",
      " curr_case_age        | null                                 \n",
      "-RECORD 1----------------------------------------------------\n",
      " case_id              | 1014127333                           \n",
      " case_opened_date     | 1/1/18 0:46                          \n",
      " case_closed_date     | 1/3/18 8:11                          \n",
      " case_due_date        | 1/5/18 8:30                          \n",
      " case_late            | false                                \n",
      " num_days_late        | -2.0126041669999997                  \n",
      " case_closed          | true                                 \n",
      " dept_division        | Storm Water                          \n",
      " service_request_type | Removal Of Obstruction               \n",
      " SLA_days             | 4.322222222                          \n",
      " case_status          | Closed                               \n",
      " source_id            | svcCRMSS                             \n",
      " request_address      | 2215  goliad rd, san antonio, 78223  \n",
      " council_district     | 003                                  \n",
      " zipcode              | 78223                                \n",
      " case_lifetime        | null                                 \n",
      " curr_case_age        | null                                 \n",
      "only showing top 2 rows\n",
      "\n"
     ]
    }
   ],
   "source": [
    "case.show(2, vertical=True, truncate=False)"
   ]
  },
  {
   "cell_type": "code",
   "execution_count": 23,
   "id": "08d2ecd9-dee0-4321-80e9-b9350f6a2bce",
   "metadata": {},
   "outputs": [
    {
     "name": "stderr",
     "output_type": "stream",
     "text": [
      "[Stage 14:>                                                         (0 + 8) / 8]\r"
     ]
    },
    {
     "name": "stdout",
     "output_type": "stream",
     "text": [
      "+----------+-------------+----------------+----------------+------------------+\n",
      "|   case_id|case_lifetime|case_opened_date|case_closed_date|     num_days_late|\n",
      "+----------+-------------+----------------+----------------+------------------+\n",
      "|1013225646|         null|    1/1/17 13:48|            null|       348.6458333|\n",
      "|1013225651|         null|    1/1/17 13:57|            null|       348.6458333|\n",
      "|1013226813|         null|    1/2/17 11:26|            null|348.52356480000003|\n",
      "|1013229328|         null|    1/3/17 10:01|            null|347.58256939999995|\n",
      "|1013236238|         null|    1/5/17 14:39|            null|       345.3894213|\n",
      "+----------+-------------+----------------+----------------+------------------+\n",
      "only showing top 5 rows\n",
      "\n"
     ]
    },
    {
     "name": "stderr",
     "output_type": "stream",
     "text": [
      "                                                                                \r"
     ]
    }
   ],
   "source": [
    "case.filter(\"! case_closed\")\\\n",
    "    .select('case_id', 'case_lifetime', 'case_opened_date', 'case_closed_date', 'num_days_late')\\\n",
    "    .sort(desc(\"num_days_late\")).show(5)"
   ]
  },
  {
   "cell_type": "code",
   "execution_count": 24,
   "id": "2b4cbdb2-ef33-4348-90d5-7fb906a8f653",
   "metadata": {},
   "outputs": [
    {
     "name": "stdout",
     "output_type": "stream",
     "text": [
      "+----------+-------------+-------------+----------------+----------------+------------------+\n",
      "|   case_id|case_lifetime|curr_case_age|case_opened_date|case_closed_date|     num_days_late|\n",
      "+----------+-------------+-------------+----------------+----------------+------------------+\n",
      "|1013225646|         null|         null|    1/1/17 13:48|            null|       348.6458333|\n",
      "|1013225651|         null|         null|    1/1/17 13:57|            null|       348.6458333|\n",
      "|1013226813|         null|         null|    1/2/17 11:26|            null|348.52356480000003|\n",
      "|1013229328|         null|         null|    1/3/17 10:01|            null|347.58256939999995|\n",
      "|1013236238|         null|         null|    1/5/17 14:39|            null|       345.3894213|\n",
      "+----------+-------------+-------------+----------------+----------------+------------------+\n",
      "only showing top 5 rows\n",
      "\n"
     ]
    }
   ],
   "source": [
    "case.filter(\"! case_closed\")\\\n",
    "    .select('case_id', 'case_lifetime', 'curr_case_age', 'case_opened_date', 'case_closed_date', 'num_days_late')\\\n",
    "    .sort(desc(\"num_days_late\")).show(5)"
   ]
  },
  {
   "cell_type": "code",
   "execution_count": 25,
   "id": "6fbdbdc4-c6bb-436d-ab6c-ea6f7ffb36de",
   "metadata": {},
   "outputs": [
    {
     "name": "stderr",
     "output_type": "stream",
     "text": [
      "                                                                                \r"
     ]
    },
    {
     "data": {
      "text/plain": [
       "26760"
      ]
     },
     "execution_count": 25,
     "metadata": {},
     "output_type": "execute_result"
    }
   ],
   "source": [
    "case.filter(case.service_request_type == lit(\"Stray Animal\")).count()"
   ]
  },
  {
   "cell_type": "code",
   "execution_count": 26,
   "id": "79ad5713-56f8-4fd7-8db5-ea0229a481d2",
   "metadata": {},
   "outputs": [
    {
     "name": "stderr",
     "output_type": "stream",
     "text": [
      "                                                                                \r"
     ]
    },
    {
     "data": {
      "text/plain": [
       "113902"
      ]
     },
     "execution_count": 26,
     "metadata": {},
     "output_type": "execute_result"
    }
   ],
   "source": [
    "case.filter(case.dept_division == \"Field Operations\").filter(case.service_request_type != \"Officer Standby\").count()"
   ]
  },
  {
   "cell_type": "code",
   "execution_count": 27,
   "id": "ae6eaabc-d194-40dc-bb66-b6fa433b098f",
   "metadata": {},
   "outputs": [],
   "source": [
    "case = case.withColumn('council_district', col('council_district').cast('string'))"
   ]
  },
  {
   "cell_type": "code",
   "execution_count": 28,
   "id": "3ef9a531-6f5a-48c0-a8b7-7da99ebc1e8c",
   "metadata": {},
   "outputs": [
    {
     "name": "stdout",
     "output_type": "stream",
     "text": [
      "+--------------------+----------------+----+\n",
      "|service_request_type|case_closed_date|year|\n",
      "+--------------------+----------------+----+\n",
      "|        Stray Animal|    1/1/18 12:29|null|\n",
      "|Removal Of Obstru...|     1/3/18 8:11|null|\n",
      "|Removal Of Obstru...|     1/2/18 7:57|null|\n",
      "|Front Or Side Yar...|     1/2/18 8:13|null|\n",
      "|Animal Cruelty(Cr...|    1/1/18 13:29|null|\n",
      "+--------------------+----------------+----+\n",
      "only showing top 5 rows\n",
      "\n"
     ]
    }
   ],
   "source": [
    "case.withColumn(\"year\", year(\"case_closed_date\")).select(\"service_request_type\", 'case_closed_date', 'year')\\\n",
    ".show(5)"
   ]
  },
  {
   "cell_type": "code",
   "execution_count": 29,
   "id": "e70ea9d6-9925-4f33-bc92-77cb68318249",
   "metadata": {},
   "outputs": [
    {
     "name": "stdout",
     "output_type": "stream",
     "text": [
      "+-------------------+--------------+\n",
      "|      num_days_late|num_hours_late|\n",
      "+-------------------+--------------+\n",
      "| -998.5087616000001|      -23964.2|\n",
      "|-2.0126041669999997|         -48.3|\n",
      "|       -3.022337963|         -72.5|\n",
      "|       -15.01148148|        -360.3|\n",
      "|0.37216435200000003|           8.9|\n",
      "+-------------------+--------------+\n",
      "only showing top 5 rows\n",
      "\n"
     ]
    }
   ],
   "source": [
    "case.withColumn(\"num_hours_late\", round(expr(\"num_days_late * 24\"), 1))\\\n",
    ".select(\"num_days_late\", 'num_hours_late').show(5)"
   ]
  },
  {
   "cell_type": "code",
   "execution_count": 30,
   "id": "3dc17ff4-1460-48db-a95b-c1c42a26f385",
   "metadata": {},
   "outputs": [
    {
     "name": "stdout",
     "output_type": "stream",
     "text": [
      "-RECORD 0------------------------------------\n",
      " source_id            | svcCRMLS             \n",
      " case_id              | 1014127332           \n",
      " case_opened_date     | 1/1/18 0:42          \n",
      " case_closed_date     | 1/1/18 12:29         \n",
      " case_due_date        | 9/26/20 0:42         \n",
      " case_late            | false                \n",
      " num_days_late        | -998.5087616000001   \n",
      " case_closed          | true                 \n",
      " dept_division        | Field Operations     \n",
      " service_request_type | Stray Animal         \n",
      " SLA_days             | 999.0                \n",
      " case_status          | Closed               \n",
      " request_address      | 2315  el paso st,... \n",
      " council_district     | 005                  \n",
      " zipcode              | 78207                \n",
      " case_lifetime        | null                 \n",
      " curr_case_age        | null                 \n",
      " source_username      | svcCRMLS             \n",
      "-RECORD 1------------------------------------\n",
      " source_id            | svcCRMSS             \n",
      " case_id              | 1014127333           \n",
      " case_opened_date     | 1/1/18 0:46          \n",
      " case_closed_date     | 1/3/18 8:11          \n",
      " case_due_date        | 1/5/18 8:30          \n",
      " case_late            | false                \n",
      " num_days_late        | -2.0126041669999997  \n",
      " case_closed          | true                 \n",
      " dept_division        | Storm Water          \n",
      " service_request_type | Removal Of Obstru... \n",
      " SLA_days             | 4.322222222          \n",
      " case_status          | Closed               \n",
      " request_address      | 2215  goliad rd, ... \n",
      " council_district     | 003                  \n",
      " zipcode              | 78223                \n",
      " case_lifetime        | null                 \n",
      " curr_case_age        | null                 \n",
      " source_username      | svcCRMSS             \n",
      "only showing top 2 rows\n",
      "\n"
     ]
    }
   ],
   "source": [
    "df = case.join(source, \"source_id\", \"left\").drop(source.source_id)\n",
    "\n",
    "df.show(2, vertical=True)"
   ]
  },
  {
   "cell_type": "code",
   "execution_count": 31,
   "id": "e7fe8839-22ca-4af0-b0ae-14cb5c3a3471",
   "metadata": {},
   "outputs": [
    {
     "name": "stdout",
     "output_type": "stream",
     "text": [
      "-RECORD 0------------------------------------\n",
      " dept_division        | Field Operations     \n",
      " source_id            | svcCRMLS             \n",
      " case_id              | 1014127332           \n",
      " case_opened_date     | 1/1/18 0:42          \n",
      " case_closed_date     | 1/1/18 12:29         \n",
      " case_due_date        | 9/26/20 0:42         \n",
      " case_late            | false                \n",
      " num_days_late        | -998.5087616000001   \n",
      " case_closed          | true                 \n",
      " service_request_type | Stray Animal         \n",
      " SLA_days             | 999.0                \n",
      " case_status          | Closed               \n",
      " request_address      | 2315  el paso st,... \n",
      " council_district     | 005                  \n",
      " zipcode              | 78207                \n",
      " case_lifetime        | null                 \n",
      " curr_case_age        | null                 \n",
      " source_username      | svcCRMLS             \n",
      " department           | Animal Care Services \n",
      " dept_subject_to_SLA  | true                 \n",
      "-RECORD 1------------------------------------\n",
      " dept_division        | Storm Water          \n",
      " source_id            | svcCRMSS             \n",
      " case_id              | 1014127333           \n",
      " case_opened_date     | 1/1/18 0:46          \n",
      " case_closed_date     | 1/3/18 8:11          \n",
      " case_due_date        | 1/5/18 8:30          \n",
      " case_late            | false                \n",
      " num_days_late        | -2.0126041669999997  \n",
      " case_closed          | true                 \n",
      " service_request_type | Removal Of Obstru... \n",
      " SLA_days             | 4.322222222          \n",
      " case_status          | Closed               \n",
      " request_address      | 2215  goliad rd, ... \n",
      " council_district     | 003                  \n",
      " zipcode              | 78223                \n",
      " case_lifetime        | null                 \n",
      " curr_case_age        | null                 \n",
      " source_username      | svcCRMSS             \n",
      " department           | Trans & Cap Impro... \n",
      " dept_subject_to_SLA  | true                 \n",
      "only showing top 2 rows\n",
      "\n"
     ]
    }
   ],
   "source": [
    "df = df.join(dept, \"dept_division\", \"left\")\\\n",
    "    .drop(dept.dept_division)\\\n",
    "    .drop(dept.dept_name)\\\n",
    "    .withColumnRenamed('standardized_dept_name', 'department')\\\n",
    "    .withColumn('dept_subject_to_SLA', col('dept_subject_to_SLA') == 'YES')\n",
    "df.show(2, vertical=True)"
   ]
  },
  {
   "cell_type": "code",
   "execution_count": 32,
   "id": "6aa43b6a-782e-4753-80e0-802a80d1a21e",
   "metadata": {},
   "outputs": [
    {
     "data": {
      "text/plain": [
       "0"
      ]
     },
     "execution_count": 32,
     "metadata": {},
     "output_type": "execute_result"
    }
   ],
   "source": [
    "df.filter(df.source_id == \"null\").count()"
   ]
  },
  {
   "cell_type": "code",
   "execution_count": 33,
   "id": "8cd003a0-d300-4362-a4f8-d723372466ed",
   "metadata": {},
   "outputs": [
    {
     "data": {
      "text/plain": [
       "0"
      ]
     },
     "execution_count": 33,
     "metadata": {},
     "output_type": "execute_result"
    }
   ],
   "source": [
    "df.filter(df.source_id == \"\").count()"
   ]
  },
  {
   "cell_type": "code",
   "execution_count": 34,
   "id": "22b0cca3-3e8f-4e6c-9fff-d7dfa60ed5cf",
   "metadata": {},
   "outputs": [
    {
     "name": "stderr",
     "output_type": "stream",
     "text": [
      "[Stage 41:=======>                                                  (1 + 7) / 8]\r"
     ]
    },
    {
     "name": "stdout",
     "output_type": "stream",
     "text": [
      "+--------------------------------+-----+\n",
      "|            service_request_type|count|\n",
      "+--------------------------------+-----+\n",
      "|                       No Pickup|89210|\n",
      "|            Overgrown Yard/Trash|66403|\n",
      "|                    Bandit Signs|32968|\n",
      "|                    Damaged Cart|31163|\n",
      "|      Front Or Side Yard Parking|28920|\n",
      "|                    Stray Animal|27361|\n",
      "| Aggressive Animal(Non-Critical)|25492|\n",
      "|           Cart Exchange Request|22608|\n",
      "|Junk Vehicle On Private Property|21649|\n",
      "|                 Pot Hole Repair|20827|\n",
      "+--------------------------------+-----+\n",
      "only showing top 10 rows\n",
      "\n"
     ]
    },
    {
     "name": "stderr",
     "output_type": "stream",
     "text": [
      "                                                                                \r"
     ]
    }
   ],
   "source": [
    "df.groupby(\"service_request_type\").count().sort(desc(\"count\")).show(10, 50)"
   ]
  },
  {
   "cell_type": "code",
   "execution_count": 35,
   "id": "1e98c358-eff4-4661-a1e4-8199e54e6674",
   "metadata": {},
   "outputs": [
    {
     "name": "stderr",
     "output_type": "stream",
     "text": [
      "[Stage 46:>                                                         (0 + 8) / 8]\r"
     ]
    },
    {
     "name": "stdout",
     "output_type": "stream",
     "text": [
      "+--------------------------------------+--------+\n",
      "|                  service_request_type|avg_late|\n",
      "+--------------------------------------+--------+\n",
      "|                    Zoning: Junk Yards|   176.0|\n",
      "|            Labeling for Used Mattress|   162.4|\n",
      "|     Record Keeping of Used Mattresses|   154.0|\n",
      "|Signage Requied for Sale of Used Mattr|   151.6|\n",
      "|              Storage of Used Mattress|   142.1|\n",
      "|                  Zoning: Recycle Yard|   135.9|\n",
      "|        Donation Container Enforcement|   131.8|\n",
      "|   License Requied Used Mattress Sales|   128.8|\n",
      "|               Traffic Signal Graffiti|   101.8|\n",
      "|                             Complaint|    72.9|\n",
      "+--------------------------------------+--------+\n",
      "only showing top 10 rows\n",
      "\n"
     ]
    },
    {
     "name": "stderr",
     "output_type": "stream",
     "text": [
      "                                                                                \r"
     ]
    }
   ],
   "source": [
    "df.groupby(\"service_request_type\").agg(round(mean(\"num_days_late\"), 1).alias(\"avg_late\"))\\\n",
    ".sort(desc(\"avg_late\")).show(10, 50)"
   ]
  },
  {
   "cell_type": "code",
   "execution_count": 36,
   "id": "76480969-b3aa-4449-8020-0e43c823db38",
   "metadata": {},
   "outputs": [
    {
     "name": "stderr",
     "output_type": "stream",
     "text": [
      "[Stage 51:>                                                         (0 + 8) / 8]\r"
     ]
    },
    {
     "name": "stdout",
     "output_type": "stream",
     "text": [
      "+------------------------+--------+\n",
      "|              department|avg_late|\n",
      "+------------------------+--------+\n",
      "|        Customer Service|    59.7|\n",
      "|             Solid Waste|    -2.2|\n",
      "|            Metro Health|    -4.9|\n",
      "|      Parks & Recreation|    -5.3|\n",
      "|Trans & Cap Improvements|   -20.6|\n",
      "|    DSD/Code Enforcement|   -38.4|\n",
      "|    Animal Care Services|  -226.5|\n",
      "|            City Council|    null|\n",
      "+------------------------+--------+\n",
      "\n"
     ]
    },
    {
     "name": "stderr",
     "output_type": "stream",
     "text": [
      "                                                                                \r"
     ]
    }
   ],
   "source": [
    "df.groupby(\"department\").agg(round(mean(\"num_days_late\"), 1). alias(\"avg_late\"))\\\n",
    ".sort(desc(\"avg_late\")).show(10, 50)"
   ]
  },
  {
   "cell_type": "code",
   "execution_count": 37,
   "id": "1c09e7e3-b4b2-477e-90bf-ffbf3e3274de",
   "metadata": {},
   "outputs": [
    {
     "name": "stderr",
     "output_type": "stream",
     "text": [
      "[Stage 56:====================================>                     (5 + 3) / 8]\r"
     ]
    },
    {
     "name": "stdout",
     "output_type": "stream",
     "text": [
      "+--------------------+----------------------------------------+-------------+\n",
      "|          department|                    service_request_type|avg_days_late|\n",
      "+--------------------+----------------------------------------+-------------+\n",
      "|Animal Care Services|                Injured Animal(Critical)|         -0.1|\n",
      "|Animal Care Services|             Aggressive Animal(Critical)|         16.7|\n",
      "|Animal Care Services|                   Animal Bite(Critical)|          0.0|\n",
      "|Animal Care Services|                 Trapped/Confined Animal|          0.2|\n",
      "|Animal Care Services|             City Council Animal Request|         -1.5|\n",
      "|Animal Care Services|                            Stray Animal|       -998.8|\n",
      "|Animal Care Services|                Animal Cruelty(Critical)|         -0.1|\n",
      "|Animal Care Services|             Public Nuisance(Own Animal)|         -2.2|\n",
      "|Animal Care Services|                          Animal Neglect|          7.3|\n",
      "|Animal Care Services|                         Officer Standby|         -0.1|\n",
      "|Animal Care Services|                  Animal Permits Request|         22.2|\n",
      "|Animal Care Services|         Aggressive Animal(Non-Critical)|          2.6|\n",
      "|Animal Care Services|               Animal Bite(Non-Critical)|         -2.5|\n",
      "|Animal Care Services|            Spay/Neuter Request Response|         -7.0|\n",
      "|        City Council|        Request for Research/Information|         null|\n",
      "|        City Council|  CCO_Request for Research/Information_1|         null|\n",
      "|    Customer Service|                              Compliment|         -8.0|\n",
      "|    Customer Service|                               Complaint|         72.9|\n",
      "|DSD/Code Enforcement|              Zoning: Oversized Vehicles|         -4.7|\n",
      "|DSD/Code Enforcement|               Dang Premises/Secure Only|        -39.9|\n",
      "|DSD/Code Enforcement|                        Vehicle Blocking|          0.0|\n",
      "|DSD/Code Enforcement|DSDB Ordered/Hold Harmless/Regular: Main|        -12.4|\n",
      "|DSD/Code Enforcement|  Fly Breeding and Animal Waste Disposal|        -56.7|\n",
      "|DSD/Code Enforcement|                   Graffiti: Vacant Lots|        -69.1|\n",
      "|DSD/Code Enforcement|           Animal Investigation Referral|        -41.0|\n",
      "|DSD/Code Enforcement|   Improper Storage of Tires/At Facility|        -59.2|\n",
      "|DSD/Code Enforcement|       Right Of Way/Sidewalk Obstruction|         -8.2|\n",
      "|DSD/Code Enforcement|                    Zoning: Recycle Yard|        135.9|\n",
      "|DSD/Code Enforcement|                    Zoning: Mobile Homes|        -87.6|\n",
      "|DSD/Code Enforcement|                          Graffiti: Curb|         -1.9|\n",
      "|DSD/Code Enforcement|              Graffiti: Drainage Channel|         -0.6|\n",
      "|DSD/Code Enforcement|                      Zoning: Junk Yards|        176.0|\n",
      "|DSD/Code Enforcement|                \"Vacant Lot-City (12\"\")\"|        -45.2|\n",
      "|DSD/Code Enforcement|                     Graffiti: Guardrail|         -1.8|\n",
      "|DSD/Code Enforcement|           Graffiti: Traffic Control Box|         -0.8|\n",
      "|DSD/Code Enforcement|                         Permits, Fences|        -14.2|\n",
      "|DSD/Code Enforcement|                                 Vendors|         66.5|\n",
      "|DSD/Code Enforcement|                   Wasting Water (Leaks)|       -113.6|\n",
      "|DSD/Code Enforcement|              \"Vacant Lot-County (48\"\")\"|        -40.7|\n",
      "|DSD/Code Enforcement|                       Water No Services|       -113.7|\n",
      "|DSD/Code Enforcement|                  CPS Energy Metal Poles|       -129.2|\n",
      "|DSD/Code Enforcement|             \"Vacant Lot-Private (12\"\")\"|        -40.6|\n",
      "|DSD/Code Enforcement|Used/Scrap Tire Facility License Pending|        -71.2|\n",
      "|DSD/Code Enforcement|                   Dang. Premises/CL/SEC|        -40.2|\n",
      "|DSD/Code Enforcement|                       Sewer Line Broken|        -53.8|\n",
      "|DSD/Code Enforcement|                        Zoning: Setbacks|        -85.3|\n",
      "|DSD/Code Enforcement|        Junk Vehicle On Private Property|        -42.7|\n",
      "|DSD/Code Enforcement|               \"Vacant Lot-State (12\"\")\"|        -50.4|\n",
      "|DSD/Code Enforcement|   Low Hanging Limbs on Streets/Sidewalk|       -112.8|\n",
      "|DSD/Code Enforcement|                    Zoning: Illumination|        -98.9|\n",
      "+--------------------+----------------------------------------+-------------+\n",
      "only showing top 50 rows\n",
      "\n"
     ]
    },
    {
     "name": "stderr",
     "output_type": "stream",
     "text": [
      "                                                                                \r"
     ]
    }
   ],
   "source": [
    "df.groupby(\"department\", \"service_request_type\")\\\n",
    ".agg(round(avg(\"num_days_late\"), 1).alias(\"avg_days_late\")).sort(\"department\").show(50,50)"
   ]
  },
  {
   "cell_type": "code",
   "execution_count": null,
   "id": "7aa98857-56f5-4ac2-984a-88853e02de05",
   "metadata": {},
   "outputs": [],
   "source": []
  }
 ],
 "metadata": {
  "kernelspec": {
   "display_name": "Python 3 (ipykernel)",
   "language": "python",
   "name": "python3"
  },
  "language_info": {
   "codemirror_mode": {
    "name": "ipython",
    "version": 3
   },
   "file_extension": ".py",
   "mimetype": "text/x-python",
   "name": "python",
   "nbconvert_exporter": "python",
   "pygments_lexer": "ipython3",
   "version": "3.9.13"
  }
 },
 "nbformat": 4,
 "nbformat_minor": 5
}
